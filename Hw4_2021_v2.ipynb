{
  "nbformat": 4,
  "nbformat_minor": 0,
  "metadata": {
    "colab": {
      "name": "Hw4_2021_v2.ipynb",
      "provenance": [],
      "collapsed_sections": [],
      "include_colab_link": true
    },
    "kernelspec": {
      "display_name": "py3.6_env",
      "language": "python",
      "name": "py3.6_env"
    },
    "language_info": {
      "codemirror_mode": {
        "name": "ipython",
        "version": 3
      },
      "file_extension": ".py",
      "mimetype": "text/x-python",
      "name": "python",
      "nbconvert_exporter": "python",
      "pygments_lexer": "ipython3",
      "version": "3.6.9"
    }
  },
  "cells": [
    {
      "cell_type": "markdown",
      "metadata": {
        "id": "view-in-github",
        "colab_type": "text"
      },
      "source": [
        "<a href=\"https://colab.research.google.com/github/siddharth-cse/Discrete_optimization_files/blob/main/Hw4_2021_v2.ipynb\" target=\"_parent\"><img src=\"https://colab.research.google.com/assets/colab-badge.svg\" alt=\"Open In Colab\"/></a>"
      ]
    },
    {
      "cell_type": "markdown",
      "metadata": {
        "id": "2CJDqQbKIfxp"
      },
      "source": [
        "$\\qquad$ $\\qquad$$\\qquad$  **TDA 233 Machine Learning: Home Assignment 4 in Clustering** <br />\n",
        "$\\qquad$ $\\qquad$$\\qquad$ **Goal: K-means, GMM, EM**<br />\n",
        "$\\qquad$ $\\qquad$$\\qquad$                   **Grader: Lovisa** <br />\n",
        "$\\qquad$ $\\qquad$$\\qquad$                     **Due Date: 2021-03-19** <br />\n",
        "$\\qquad$ $\\qquad$$\\qquad$                   **Submitted by: Name, Personal No., Email** <br />\n",
        "\n",
        "\n",
        "---\n",
        "\n",
        "\n",
        "GENERAL GUIDELINES:\n",
        "*   All solutions to theoretical and pratical problems must be submitted in this ipynb notebook, and equations wherever required, should be formatted using LaTeX math-mode.\n",
        "*   All discussion regarding practical problems, along with solutions and plots should be specified in this notebook. Include your derivations for the theoretical questions. All plots/results should be visible such that the notebook does not need to be run. However, the code in the notebook should reproduce the plots/results if we choose to run it.\n",
        "*   Your name, personal number and email address should be specified above.\n",
        "*   All tables and other additional information should be included in this notebook.\n",
        "*   **All the answers for theoretical questions must be filled in the cells created for you with \"Your answer here\" below each question. Feel free to add more cells if needed.**\n",
        "*   Before submitting, make sure that your code can run on another computer. That all plots can show on another computer including all your writing. It is good to check if your code can run here: https://colab.research.google.com.\n"
      ]
    },
    {
      "cell_type": "markdown",
      "metadata": {
        "id": "i2SZprryJ3Yn"
      },
      "source": [
        "# K-Means Implementation [4 points]\n",
        "\n",
        "### Q 1.1. \n",
        "Implement the basic (linear) $k$-means algorithm as described in the lecture, using the euclidean distance. Use random points sampled uniformly without replacement from the data as initialization for the centroids. Terminate the iterative procedure when the cluster assignments do not change. [**2 pts**]\n",
        "\n",
        "### Q 1.2. \n",
        "In this exercise you will run your $k$-means algorithm implementation on the data in **hw4_data.csv**. Each row in the data is an observation, and each column is a feature. \n",
        "\n",
        "1. What value of $k$ do you think is suitable for this data?\n",
        "\n",
        "2. Run your k-means implementation on the data with your choice of suitable $k$. Run the algorithm 5 times on the data and plot the resulting cluster assignments for each run. Also note for each run how many iterations were required before convergence. \n",
        "\n",
        "3. Do you always get the same final cluster solutions and same number of required iterations? Why/why not? [**2 pts**]\n",
        "\n",
        "\n",
        "**Note:** The follwing code might be useful for this excercise.\n",
        "\n",
        "```python\n",
        "import pandas as pd\n",
        "data = pd.read_csv(\"hw4_data.csv\")\n",
        "data.head()\n",
        "```"
      ]
    },
    {
      "cell_type": "markdown",
      "metadata": {
        "id": "Czs7q4Y5UIUT"
      },
      "source": [
        "### Your answer here:"
      ]
    },
    {
      "cell_type": "code",
      "metadata": {
        "id": "PfVKhCz5VMUs",
        "outputId": "646bb4ec-1c8d-4d1a-96f5-e87b5cc758b1"
      },
      "source": [
        "import pandas as pd\n",
        "data = pd.read_csv(\"hw4_data.csv\")\n",
        "print(data.shape)"
      ],
      "execution_count": null,
      "outputs": [
        {
          "output_type": "stream",
          "text": [
            "(342, 2)\n"
          ],
          "name": "stdout"
        }
      ]
    },
    {
      "cell_type": "code",
      "metadata": {
        "id": "_z7xJc4nVMUt",
        "outputId": "b61b7e9d-c772-43ed-e09e-29c9f728ad6e"
      },
      "source": [
        "%matplotlib inline\n",
        "import matplotlib.pyplot as plt\n",
        "import math\n",
        "plt.scatter(data['x'], data['y'])\n",
        "plt.show()"
      ],
      "execution_count": null,
      "outputs": [
        {
          "output_type": "display_data",
          "data": {
            "image/png": "[encoded data removed]",
            "text/plain": [
              "<Figure size 432x288 with 1 Axes>"
            ]
          },
          "metadata": {
            "tags": [],
            "needs_background": "light"
          }
        }
      ]
    },
    {
      "cell_type": "code",
      "metadata": {
        "id": "3SNKkHfUVMUv",
        "outputId": "b16a246b-4e40-4ca9-a998-dac7021f1e1a"
      },
      "source": [
        "from sklearn.metrics.pairwise import euclidean_distances\n",
        "\n",
        "distances=euclidean_distances(data.loc[0],data.loc[0])\n",
        "\n"
      ],
      "execution_count": null,
      "outputs": [
        {
          "output_type": "error",
          "ename": "ValueError",
          "evalue": "Expected 2D array, got 1D array instead:\narray=[ 39.1 181. ].\nReshape your data either using array.reshape(-1, 1) if your data has a single feature or array.reshape(1, -1) if it contains a single sample.",
          "traceback": [
            "\u001b[0;31m---------------------------------------------------------------------------\u001b[0m",
            "\u001b[0;31mValueError\u001b[0m                                Traceback (most recent call last)",
            "\u001b[0;32m<ipython-input-56-cc7c39892d47>\u001b[0m in \u001b[0;36m<module>\u001b[0;34m\u001b[0m\n\u001b[1;32m      1\u001b[0m \u001b[0;32mfrom\u001b[0m \u001b[0msklearn\u001b[0m\u001b[0;34m.\u001b[0m\u001b[0mmetrics\u001b[0m\u001b[0;34m.\u001b[0m\u001b[0mpairwise\u001b[0m \u001b[0;32mimport\u001b[0m \u001b[0meuclidean_distances\u001b[0m\u001b[0;34m\u001b[0m\u001b[0;34m\u001b[0m\u001b[0m\n\u001b[1;32m      2\u001b[0m \u001b[0;34m\u001b[0m\u001b[0m\n\u001b[0;32m----> 3\u001b[0;31m \u001b[0mdistances\u001b[0m\u001b[0;34m=\u001b[0m\u001b[0meuclidean_distances\u001b[0m\u001b[0;34m(\u001b[0m\u001b[0mdata\u001b[0m\u001b[0;34m.\u001b[0m\u001b[0mloc\u001b[0m\u001b[0;34m[\u001b[0m\u001b[0;36m0\u001b[0m\u001b[0;34m]\u001b[0m\u001b[0;34m,\u001b[0m\u001b[0mdata\u001b[0m\u001b[0;34m.\u001b[0m\u001b[0mloc\u001b[0m\u001b[0;34m[\u001b[0m\u001b[0;36m0\u001b[0m\u001b[0;34m]\u001b[0m\u001b[0;34m)\u001b[0m\u001b[0;34m\u001b[0m\u001b[0;34m\u001b[0m\u001b[0m\n\u001b[0m\u001b[1;32m      4\u001b[0m \u001b[0;34m\u001b[0m\u001b[0m\n",
            "\u001b[0;32m~/anaconda3/envs/py3.6_env/lib/python3.6/site-packages/sklearn/metrics/pairwise.py\u001b[0m in \u001b[0;36meuclidean_distances\u001b[0;34m(X, Y, Y_norm_squared, squared, X_norm_squared)\u001b[0m\n\u001b[1;32m    230\u001b[0m     \u001b[0mpaired_distances\u001b[0m \u001b[0;34m:\u001b[0m \u001b[0mdistances\u001b[0m \u001b[0mbetweens\u001b[0m \u001b[0mpairs\u001b[0m \u001b[0mof\u001b[0m \u001b[0melements\u001b[0m \u001b[0mof\u001b[0m \u001b[0mX\u001b[0m \u001b[0;32mand\u001b[0m \u001b[0mY\u001b[0m\u001b[0;34m.\u001b[0m\u001b[0;34m\u001b[0m\u001b[0;34m\u001b[0m\u001b[0m\n\u001b[1;32m    231\u001b[0m     \"\"\"\n\u001b[0;32m--> 232\u001b[0;31m     \u001b[0mX\u001b[0m\u001b[0;34m,\u001b[0m \u001b[0mY\u001b[0m \u001b[0;34m=\u001b[0m \u001b[0mcheck_pairwise_arrays\u001b[0m\u001b[0;34m(\u001b[0m\u001b[0mX\u001b[0m\u001b[0;34m,\u001b[0m \u001b[0mY\u001b[0m\u001b[0;34m)\u001b[0m\u001b[0;34m\u001b[0m\u001b[0;34m\u001b[0m\u001b[0m\n\u001b[0m\u001b[1;32m    233\u001b[0m \u001b[0;34m\u001b[0m\u001b[0m\n\u001b[1;32m    234\u001b[0m     \u001b[0;31m# If norms are passed as float32, they are unused. If arrays are passed as\u001b[0m\u001b[0;34m\u001b[0m\u001b[0;34m\u001b[0m\u001b[0;34m\u001b[0m\u001b[0m\n",
            "\u001b[0;32m~/anaconda3/envs/py3.6_env/lib/python3.6/site-packages/sklearn/metrics/pairwise.py\u001b[0m in \u001b[0;36mcheck_pairwise_arrays\u001b[0;34m(X, Y, precomputed, dtype)\u001b[0m\n\u001b[1;32m    110\u001b[0m     \u001b[0;32melse\u001b[0m\u001b[0;34m:\u001b[0m\u001b[0;34m\u001b[0m\u001b[0;34m\u001b[0m\u001b[0m\n\u001b[1;32m    111\u001b[0m         X = check_array(X, accept_sparse='csr', dtype=dtype,\n\u001b[0;32m--> 112\u001b[0;31m                         estimator=estimator)\n\u001b[0m\u001b[1;32m    113\u001b[0m         Y = check_array(Y, accept_sparse='csr', dtype=dtype,\n\u001b[1;32m    114\u001b[0m                         estimator=estimator)\n",
            "\u001b[0;32m~/anaconda3/envs/py3.6_env/lib/python3.6/site-packages/sklearn/utils/validation.py\u001b[0m in \u001b[0;36mcheck_array\u001b[0;34m(array, accept_sparse, accept_large_sparse, dtype, order, copy, force_all_finite, ensure_2d, allow_nd, ensure_min_samples, ensure_min_features, warn_on_dtype, estimator)\u001b[0m\n\u001b[1;32m    519\u001b[0m                     \u001b[0;34m\"Reshape your data either using array.reshape(-1, 1) if \"\u001b[0m\u001b[0;34m\u001b[0m\u001b[0;34m\u001b[0m\u001b[0m\n\u001b[1;32m    520\u001b[0m                     \u001b[0;34m\"your data has a single feature or array.reshape(1, -1) \"\u001b[0m\u001b[0;34m\u001b[0m\u001b[0;34m\u001b[0m\u001b[0m\n\u001b[0;32m--> 521\u001b[0;31m                     \"if it contains a single sample.\".format(array))\n\u001b[0m\u001b[1;32m    522\u001b[0m \u001b[0;34m\u001b[0m\u001b[0m\n\u001b[1;32m    523\u001b[0m         \u001b[0;31m# in the future np.flexible dtypes will be handled like object dtypes\u001b[0m\u001b[0;34m\u001b[0m\u001b[0;34m\u001b[0m\u001b[0;34m\u001b[0m\u001b[0m\n",
            "\u001b[0;31mValueError\u001b[0m: Expected 2D array, got 1D array instead:\narray=[ 39.1 181. ].\nReshape your data either using array.reshape(-1, 1) if your data has a single feature or array.reshape(1, -1) if it contains a single sample."
          ]
        }
      ]
    },
    {
      "cell_type": "markdown",
      "metadata": {
        "id": "K6jdOJf_Ksf6"
      },
      "source": [
        "# GMM [2 pts]\n",
        "\n",
        "We will now consider a mixture model. The probability of an observation $x \\in \\mathbb{R}^D$ is given by: $$p(x) = \\sum_{k=1}^{K} \\pi_k P(x|\\theta_k)$$ where $\\pi_k$ are the probabilities a priori and $P(x|\\theta_k)$ are multi-dimensional Gaussian characterized by their mean $\\mu_k$ and their co-variance matrix $\\Sigma_k$\n",
        ", i.e. $\\theta_k = (\\mu_k, \\Sigma_k)$.\n",
        "\n",
        "### Q 2.1.\n",
        "Plot the probability distribution $p(x)$ for D=1, K = 2, $\\pi_1 = \\pi_2 = 0.5$ and $\\mu_1 = 1$, $\\mu_2 = 5$,$\\Sigma_1 = 3$,$ \\Sigma_2 = 5$. **[1 pts]**\n",
        "\n",
        "### Q 2.2.\n",
        "\n",
        "What is the posterior probability that an example $x=1.5$ was produced by the Gaussian $k=1$,i.e. $P(\\theta_1| x)$ ? **[1 pts]**"
      ]
    },
    {
      "cell_type": "markdown",
      "metadata": {
        "id": "Nqn0528wUU8u"
      },
      "source": [
        "### Your answer here:"
      ]
    },
    {
      "cell_type": "markdown",
      "metadata": {
        "id": "Gp1tmMdZKtYS"
      },
      "source": [
        "# EM algorithm for GMM [6 pts]\n",
        "\n",
        "The data used for this assignment will be one-dimensional and given by the x column from the \"hw4_data\". \n",
        "\n",
        "### Q 3.1.\n",
        "\n",
        "For this assignment we assume that the x data distribution can be described by a mixture of 2 Gaussians in one dimension, of respective parameters $(\\mu_1, \\sigma_1^2)$ and $(\\mu_2, \\sigma_2^2)$. Do you think that this is a reasonable assumption to make? **[1 pts]**\n",
        "\n",
        "### Q 3.2.\n",
        "\n",
        "We will call $\\pi_1$ and $\\pi_2$ the coefficients of the two Gaussians in the mixture.\n",
        "\n",
        "Sort the items of the sample in ascending order and use the 200 smallest values for estimating $(\\mu_1, \\sigma_1^2)$ and the remaining larger ones to estimate $(\\mu_2, \\sigma_2^2)$. Under these conditions, what values should logically be assigned to the weights $\\pi_1$ and $\\pi_2$ (round off to two decimal places)? Plot the resulting distribution of the mixture model for this initializing step. **[1 pts]**\n",
        "\n",
        "### Q 3.3.\n",
        "\n",
        "Starting from $\\theta^0 = \\{\\mu_1, \\sigma^2_1, \\pi_1, \\mu_2, \\sigma^2_2, \\pi_2\\}$ obtained from the previous question, estimate the value of responsibilities $\\gamma(z_{nk})$ according to the EM algorithm. Print the values in the same order as that of the sorted data. **[2 pts]**\n",
        "\n",
        "### Q 3.4.\n",
        "Re-estimate the parameters i.e. calculate $\\theta^1$, using the current responsibilities. Plot the resulting distribution of the mixture model for this first step. **[2 pts]** \n",
        "\n",
        "   \n",
        "**Note:** $\\theta^{i}$ denotes the $i^{th}$ step estimate when using the EM algorithm."
      ]
    },
    {
      "cell_type": "markdown",
      "metadata": {
        "id": "3LPxv3VVUabd"
      },
      "source": [
        "### Your answer here:"
      ]
    }
  ]
}